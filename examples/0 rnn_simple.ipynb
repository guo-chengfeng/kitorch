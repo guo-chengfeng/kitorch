{
 "cells": [
  {
   "cell_type": "code",
   "execution_count": 1,
   "metadata": {},
   "outputs": [],
   "source": [
    "import sys\n",
    "sys.path.append('../../')\n",
    "import kitorch as mt\n",
    "from kitorch import nn,optim\n",
    "from kitorch import functional as F\n",
    "import numpy as np\n",
    "import torch"
   ]
  },
  {
   "cell_type": "code",
   "execution_count": 2,
   "metadata": {},
   "outputs": [],
   "source": [
    "class RNN(nn.Module):\n",
    "    def __init__(self,input_size,hidden_size,num_layers,nonlinearity='relu',dropout=0):\n",
    "        super(RNN, self).__init__()\n",
    "\n",
    "        self.rnn = nn.RNN(\n",
    "            input_size= input_size,\n",
    "            hidden_size= hidden_size,\n",
    "            num_layers= num_layers,\n",
    "            dropout=dropout\n",
    "        )\n",
    "        self.fc = nn.Linear(hidden_size, 1)\n",
    "        \n",
    "    def forward(self,x,h0):\n",
    "        x, hn = self.rnn(x,h0)\n",
    "        x = self.fc(x)\n",
    "        return x,hn\n",
    "    \n",
    "\n",
    "class TrochRNN(torch.nn.Module):\n",
    "    def __init__(self,input_size,hidden_size,num_layers,nonlinearity='relu',dropout=0):\n",
    "        super(TrochRNN, self).__init__()\n",
    "\n",
    "        self.rnn = torch.nn.RNN(\n",
    "            input_size= input_size,\n",
    "            hidden_size= hidden_size,\n",
    "            num_layers= num_layers,\n",
    "#             nonlinearity = nonlinearity,   #tanh 或者 relu\n",
    "#             batch_first = True,  # 数据顺序要相应修改\n",
    "#             dropout = dropout\n",
    "      )\n",
    "        self.fc = torch.nn.Linear(hidden_size, 1)\n",
    "        \n",
    "    def forward(self,x,h0):\n",
    "        x, hn = self.rnn(x,h0)\n",
    "        x = self.fc(x)\n",
    "        return x,hn    \n",
    "    \n"
   ]
  },
  {
   "cell_type": "code",
   "execution_count": 3,
   "metadata": {},
   "outputs": [
    {
     "data": {
      "text/plain": [
       "<Figure size 640x480 with 1 Axes>"
      ]
     },
     "metadata": {},
     "output_type": "display_data"
    }
   ],
   "source": [
    "import matplotlib.pyplot as plt\n",
    "# 创造一些数据\n",
    "steps = np.linspace(0, np.pi*2, 100, dtype=np.float)\n",
    "x_np = np.sin(steps)\n",
    "y_np = np.cos(steps)\n",
    "#\n",
    "# “看”数据\n",
    "plt.plot(steps, y_np, 'r-', label='target(cos)')\n",
    "plt.plot(steps, x_np, 'b-', label='input(sin)')\n",
    "plt.legend(loc='best')\n",
    "plt.show()"
   ]
  },
  {
   "cell_type": "code",
   "execution_count": 4,
   "metadata": {},
   "outputs": [],
   "source": [
    "def normalize_weights(parameters):\n",
    "    for layer_paras in parameters:\n",
    "        for para in layer_paras:\n",
    "            norm = np.linalg.norm(para.grad.data)\n",
    "            if norm > 1:\n",
    "                scale = 1/norm\n",
    "                para.grad.data *=scale"
   ]
  },
  {
   "cell_type": "code",
   "execution_count": 5,
   "metadata": {},
   "outputs": [],
   "source": [
    "# 定义优化器和损失函数\n",
    "lr = 0.001\n",
    "num_layers=2\n",
    "dropout=0\n",
    "model = RNN(1,32,num_layers,dropout)\n",
    "torch_model = TrochRNN(1,32,num_layers,dropout)\n",
    "parameters = model.parameters()\n",
    "optimizer = optim.RMSprop(parameters, lr=lr)\n",
    "torch_optimizer = torch.optim.RMSprop(torch_model.parameters(), lr=lr)"
   ]
  },
  {
   "cell_type": "code",
   "execution_count": null,
   "metadata": {},
   "outputs": [],
   "source": []
  },
  {
   "cell_type": "code",
   "execution_count": 6,
   "metadata": {},
   "outputs": [],
   "source": [
    "%matplotlib qt5"
   ]
  },
  {
   "cell_type": "code",
   "execution_count": 7,
   "metadata": {},
   "outputs": [
    {
     "name": "stdout",
     "output_type": "stream",
     "text": [
      "0.7564060192829054 0.5296083688735962\n",
      "0.006452324976694046 0.05063014477491379\n",
      "0.0038484363826662726 0.006987657863646746\n",
      "0.01097653316088069 0.010676981881260872\n",
      "CPU times: user 24.6 s, sys: 7.18 s, total: 31.8 s\n",
      "Wall time: 7.57 s\n"
     ]
    }
   ],
   "source": [
    "%%time\n",
    "seq_len = 20\n",
    "input_size = 1\n",
    "h_state = mt.zeros(num_layers,1,32)\n",
    "torch_h_state = torch.zeros(num_layers,1,32)\n",
    "# plt.figure(1,figsize=(12,5))\n",
    "# 图出来了，可以继续画\n",
    "\n",
    "\n",
    "for epoch in range(200):\n",
    "# epoch = 0\n",
    "    \n",
    "    start, end = epoch * np.pi, (epoch+1)*np.pi\n",
    "\n",
    "    steps = np.linspace(start, end, seq_len, dtype=np.float32)\n",
    "    x_np = np.sin(steps)\n",
    "    y_np = np.cos(steps)\n",
    "\n",
    "    x = mt.from_numpy(x_np[:,np.newaxis,np.newaxis])\n",
    "    y = mt.from_numpy(y_np[:,np.newaxis,np.newaxis])\n",
    "\n",
    "    optimizer.zero_grad()  \n",
    "    prediction, h_state = model(x, h_state)\n",
    "    h_state = h_state.copy()\n",
    "    \n",
    "    loss = F.mse_loss(prediction, y)\n",
    "    loss.backward()\n",
    "    normalize_weights(parameters)\n",
    "    optimizer.step()\n",
    "\n",
    "#     torch RNN\n",
    "    x = torch.from_numpy(x_np[:,np.newaxis,np.newaxis])\n",
    "    y = torch.from_numpy(y_np[:,np.newaxis,np.newaxis])\n",
    "    torch_optimizer.zero_grad()  \n",
    "    torch_prediction, torch_h_state = torch_model(x, torch_h_state)\n",
    "    torch_h_state = torch_h_state.data\n",
    "    \n",
    "    torch_loss = torch.nn.functional.mse_loss(torch_prediction, y)\n",
    "\n",
    "    torch_loss.backward()\n",
    "    torch_optimizer.step()\n",
    "    \n",
    "    \n",
    "    if epoch%50 == 0:\n",
    "        print(loss.data.item(),torch_loss.data.item(),)\n",
    "    \n",
    "    plt.plot(steps,y_np.flatten(),'r-')  \n",
    "    plt.plot(steps,prediction.data.flatten(),'b-')\n",
    "    plt.plot(steps,torch_prediction.data.numpy().flatten(),'k-')\n",
    "    plt.pause(0.005)\n",
    "    if epoch%50 == 0:\n",
    "        plt.cla()\n",
    "    \n",
    "    \n",
    "plt.show()  "
   ]
  },
  {
   "cell_type": "code",
   "execution_count": 8,
   "metadata": {},
   "outputs": [],
   "source": [
    "def findNode(h,num=0,nums=[]):\n",
    "    if h.depends_on:\n",
    "        for de in h.depends_on:\n",
    "            t = de[0]\n",
    "            findNode(t,num+1,nums)\n",
    "    else:\n",
    "        nums.append(num)\n",
    "        \n",
    "def check_nums(h):\n",
    "    nums = []\n",
    "    findNode(h,0,nums)\n",
    "    return sum(nums)"
   ]
  },
  {
   "cell_type": "code",
   "execution_count": 9,
   "metadata": {},
   "outputs": [
    {
     "data": {
      "text/plain": [
       "15"
      ]
     },
     "execution_count": 9,
     "metadata": {},
     "output_type": "execute_result"
    }
   ],
   "source": [
    "check_nums(loss)"
   ]
  },
  {
   "cell_type": "code",
   "execution_count": null,
   "metadata": {},
   "outputs": [],
   "source": []
  }
 ],
 "metadata": {
  "kernelspec": {
   "display_name": "Python 3",
   "language": "python",
   "name": "python3"
  },
  "language_info": {
   "codemirror_mode": {
    "name": "ipython",
    "version": 3
   },
   "file_extension": ".py",
   "mimetype": "text/x-python",
   "name": "python",
   "nbconvert_exporter": "python",
   "pygments_lexer": "ipython3",
   "version": "3.6.5"
  }
 },
 "nbformat": 4,
 "nbformat_minor": 2
}
