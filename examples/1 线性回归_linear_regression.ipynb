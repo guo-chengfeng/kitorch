{
 "cells": [
  {
   "cell_type": "markdown",
   "metadata": {},
   "source": [
    "线性回归\n",
    "==============\n",
    "让我们从经典的线性回归（Linear Regression）模型开始这份教程。在这一章里，你将使用真实的数据集建立起一个房价预测模型，并且了解到机器学习中的若干重要概念。\n",
    "\n",
    "1 背景原理\n",
    "----------\n",
    "线性回归假设各个变量之间是线性变化的：\n",
    "\n",
    "$$y = WX + b = \\Sigma w_{i}x_{i}+b$$\n",
    "\n",
    "$x_i$是特征，$w_i$是每个特征的权重。初看起来，这个假设实在过于简单了，变量间的真实关系很难是线性的。但由于线性回归模型有形式简单和易于建模分析的优点，它在实际问题中得到了大量的应用。\n",
    "\n",
    "\n",
    "2 数据集介绍\n",
    "-----------\n",
    "在波士顿房价数据集中，和房屋相关的值共有14个：前13个用来描述房屋相关的各种信息，即模型中的$x_i$；最后一个值为我们要预测的该类房屋价格的中位数，即模型中的y。这份数据集共506行，每行包含了波士顿郊区的一类房屋的相关信息及该类房屋价格的中位数。其各维属性的意义如下：\n",
    "\n",
    "\n",
    "| 属性名 | 解释 | 类型 |\n",
    "| ------| ------ | ------ |\n",
    "| CRIM | 该镇的人均犯罪率 | 连续值 |\n",
    "| ZN | 占地面积超过25,000平方呎的住宅用地比例 | 连续值 |\n",
    "| INDUS | 非零售商业用地比例 | 连续值 |\n",
    "| CHAS | 是否邻近 Charles River  | 离散值，1=邻近；0=不邻近 |\n",
    "| NOX | 一氧化氮浓度 | 连续值 |\n",
    "| RM | 每栋房屋的平均客房数 | 连续值 |\n",
    "| AGE | 1940年之前建成的自用单位比例 | 连续值 |\n",
    "| DIS | 到波士顿5个就业中心的加权距离 | 连续值 |\n",
    "| RAD | 到径向公路的可达性指数 | 连续值 |\n",
    "| TAX | 全值财产税率 | 连续值 |\n",
    "| PTRATIO | 学生与教师的比例 | 连续值 |\n",
    "| B | 1000(BK - 0.63)^2，其中BK为黑人占比 | 连续值 |\n",
    "| LSTAT | 低收入人群占比 | 连续值 |\n",
    "| MEDV | 同类房屋价格的中位数 | 连续值 |"
   ]
  },
  {
   "cell_type": "code",
   "execution_count": 2,
   "metadata": {},
   "outputs": [],
   "source": [
    "import sys\n",
    "sys.path.append('../../')"
   ]
  },
  {
   "cell_type": "code",
   "execution_count": 3,
   "metadata": {},
   "outputs": [],
   "source": [
    "from matplotlib import pyplot as plt\n",
    "import numpy as np\n",
    "import kitorch as kt\n",
    "from kitorch.dataset import uci_housing\n",
    "from kitorch.dataset.common import batch\n",
    "from kitorch import optim,nn,functional as F  "
   ]
  },
  {
   "cell_type": "code",
   "execution_count": 4,
   "metadata": {},
   "outputs": [
    {
     "name": "stderr",
     "output_type": "stream",
     "text": [
      "\n"
     ]
    },
    {
     "data": {
      "image/png": "[encoded data removed]",
      "text/plain": [
       "<Figure size 720x432 with 1 Axes>"
      ]
     },
     "metadata": {},
     "output_type": "display_data"
    }
   ],
   "source": [
    "#1 获取数据\n",
    "train_data, test_data = uci_housing.fetch()"
   ]
  },
  {
   "cell_type": "code",
   "execution_count": 5,
   "metadata": {},
   "outputs": [],
   "source": [
    "#2 建立模型\n",
    "class LinearNet(nn.Module):\n",
    "    def __init__(self):\n",
    "        super(LinearNet,self).__init__()\n",
    "        self.fc = nn.Linear(13,1)\n",
    "    \n",
    "    def forward(self,x):\n",
    "        return self.fc(x)"
   ]
  },
  {
   "cell_type": "code",
   "execution_count": 6,
   "metadata": {},
   "outputs": [],
   "source": [
    "#3 定义目标函数\n",
    "criterion = F.mse_loss"
   ]
  },
  {
   "cell_type": "code",
   "execution_count": 7,
   "metadata": {},
   "outputs": [],
   "source": [
    "model = LinearNet()\n",
    "lr = 0.5\n",
    "#4 定义一个优化器\n",
    "optimizer = optim.Adam(model.parameters(),lr =lr)"
   ]
  },
  {
   "cell_type": "code",
   "execution_count": 8,
   "metadata": {},
   "outputs": [
    {
     "name": "stdout",
     "output_type": "stream",
     "text": [
      "epoch: 0, loss: 7525.053838277247\n",
      "epoch: 5, loss: 539.1858180431633\n",
      "epoch: 10, loss: 486.44588404066326\n",
      "epoch: 15, loss: 479.740764857011\n"
     ]
    }
   ],
   "source": [
    "epochs = 20\n",
    "\n",
    "for epoch in range(epochs):\n",
    "    total_loss = 0\n",
    "    for data in batch(train_data,20):\n",
    "        optimizer.zero_grad()\n",
    "        x = kt.from_numpy(data[:,0:13])\n",
    "        y = kt.from_numpy(np.expand_dims(data[:,-1],1))\n",
    "                             \n",
    "        y_hat = model(x)\n",
    "        loss = criterion(y_hat,y)\n",
    "        loss.backward()\n",
    "        optimizer.step()\n",
    "        total_loss += loss.item()\n",
    "        \n",
    "    if epoch % 5 == 0:\n",
    "        print(\"epoch: %s, loss: %s\"%(epoch,total_loss))"
   ]
  },
  {
   "cell_type": "code",
   "execution_count": 9,
   "metadata": {},
   "outputs": [
    {
     "data": {
      "image/png": "[encoded data removed]",
      "text/plain": [
       "<Figure size 432x288 with 1 Axes>"
      ]
     },
     "metadata": {},
     "output_type": "display_data"
    }
   ],
   "source": [
    "# 预测结果对比\n",
    "x = kt.from_numpy(test_data[:,0:13])\n",
    "y = test_data[:,-1]\n",
    "with kt.no_grad():\n",
    "    y_hat = model(x)\n",
    "\n",
    "plt.title(\"linear regression\") \n",
    "plt.xlabel(\"Number\") \n",
    "plt.ylabel(\"Price\") \n",
    "y_real = plt.plot(y,\"ob\")\n",
    "y_pred = plt.plot(y_hat.numpy(),'*r')\n",
    "plt.legend(labels = ['real', 'predict'], loc = 'best')\n",
    "plt.show()"
   ]
  },
  {
   "cell_type": "code",
   "execution_count": null,
   "metadata": {},
   "outputs": [],
   "source": []
  }
 ],
 "metadata": {
  "kernelspec": {
   "display_name": "Python 3",
   "language": "python",
   "name": "python3"
  },
  "language_info": {
   "codemirror_mode": {
    "name": "ipython",
    "version": 3
   },
   "file_extension": ".py",
   "mimetype": "text/x-python",
   "name": "python",
   "nbconvert_exporter": "python",
   "pygments_lexer": "ipython3",
   "version": "3.6.5"
  }
 },
 "nbformat": 4,
 "nbformat_minor": 2
}
