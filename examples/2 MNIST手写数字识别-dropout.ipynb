{
 "cells": [
  {
   "cell_type": "code",
   "execution_count": 1,
   "metadata": {},
   "outputs": [],
   "source": [
    "import minitorch as mt\n",
    "from minitorch import nn,optim,functional as F"
   ]
  },
  {
   "cell_type": "code",
   "execution_count": 2,
   "metadata": {},
   "outputs": [],
   "source": [
    "import numpy as np\n",
    "import torch\n",
    "from torchvision import datasets, transforms"
   ]
  },
  {
   "cell_type": "code",
   "execution_count": 3,
   "metadata": {},
   "outputs": [],
   "source": [
    "BATCH_SIZE=128\n",
    "EPOCHS=5 # 总共训练批次"
   ]
  },
  {
   "cell_type": "code",
   "execution_count": 4,
   "metadata": {},
   "outputs": [],
   "source": [
    "train_loader = torch.utils.data.DataLoader(\n",
    "        datasets.MNIST('data', train=True, download=True, \n",
    "                       transform=transforms.Compose([\n",
    "                           transforms.ToTensor(),\n",
    "                           transforms.Normalize((0.1307,), (0.3081,))\n",
    "                       ])),\n",
    "        batch_size=BATCH_SIZE, shuffle=True)\n",
    "test_loader = torch.utils.data.DataLoader(\n",
    "        datasets.MNIST('data', train=False, transform=transforms.Compose([\n",
    "                           transforms.ToTensor(),\n",
    "                           transforms.Normalize((0.1307,), (0.3081,))\n",
    "                       ])),\n",
    "        batch_size=BATCH_SIZE, shuffle=True)"
   ]
  },
  {
   "cell_type": "code",
   "execution_count": null,
   "metadata": {},
   "outputs": [],
   "source": []
  },
  {
   "cell_type": "code",
   "execution_count": 5,
   "metadata": {},
   "outputs": [],
   "source": [
    "class ConvNet(nn.Module):\n",
    "    def __init__(self): \n",
    "        super(ConvNet,self).__init__()\n",
    "        self.conv1 = nn.Conv2d(1,10,5) # 10, 24x24\n",
    "        self.conv2 = nn.Conv2d(10,20,3) # 128, 10x10\n",
    "        self.dropout = nn.Dropout(0.1)\n",
    "        self.fc1 = nn.Linear(20*10*10,500)\n",
    "        self.fc2 = nn.Linear(500,10)\n",
    "        \n",
    "    \n",
    "    def forward(self,x:mt.Tensor):\n",
    "        # x： 512-1-28-28\n",
    "        batch_size = x.shape[0]\n",
    "        out = self.conv1(x)     # 512-10-24-24\n",
    "        out = F.relu(out)\n",
    "        out = F.maxpool2d(out,(2,2)) # 512-10-12-12\n",
    "        out = self.conv2(out) # 512-20-10-10\n",
    "        out = F.relu(out)\n",
    "        out = out.reshape((batch_size,-1))\n",
    "        out = F.dropout(out)\n",
    "        out = self.fc1(out)\n",
    "        out = F.relu(out)\n",
    "        out = self.fc2(out)\n",
    "        return F.log_softmax(out,dim=1)"
   ]
  },
  {
   "cell_type": "code",
   "execution_count": 6,
   "metadata": {},
   "outputs": [],
   "source": [
    "\n",
    "def train(model, train_loader, optimizer, epoch):\n",
    "    model.switch_train_mode()\n",
    "    for batch_idx, (data, target) in enumerate(train_loader):\n",
    "        data,target = mt.from_numpy(data.numpy().astype(np.float64)),target.numpy()\n",
    "        optimizer.zero_grad()\n",
    "        output = model(data)\n",
    "        loss = F.nll_loss(output, target)\n",
    "        loss.backward()\n",
    "        optimizer.step(epoch)\n",
    "        if(batch_idx+1)%40 == 0: \n",
    "            print('Train Epoch: {} [{}/{} ({:.0f}%)]\\tLoss: {:.6f}'.format(\n",
    "                epoch, batch_idx * len(data), len(train_loader.dataset),\n",
    "                100. * batch_idx / len(train_loader), loss.item()))\n",
    "\n",
    "\n",
    "def test(model,test_loader):\n",
    "    test_loss = 0\n",
    "    correct = 0\n",
    "    model.switch_eval_mode()\n",
    "    for data, target in test_loader:\n",
    "        data,target = mt.from_numpy(data.numpy().astype(np.float64)),target.numpy()\n",
    "        output = model(data)\n",
    "        test_loss += F.nll_loss(output, target).item() # 将一批的损失相加\n",
    "        result = output.data.argmax(axis=1)\n",
    "        correct += (result == target).sum()\n",
    "\n",
    "    test_loss /= len(test_loader.dataset)\n",
    "    print('\\nTest set: Average loss: {:.4f}, Accuracy: {}/{} ({:.2f}%)\\n'.format(\n",
    "        test_loss, correct, len(test_loader.dataset),\n",
    "        100. * correct / len(test_loader.dataset)))"
   ]
  },
  {
   "cell_type": "code",
   "execution_count": 7,
   "metadata": {},
   "outputs": [
    {
     "data": {
      "text/plain": [
       "ConvNet(\n",
       "   (conv1): Conv2d(in_channel=1,out_channel=10,kernel_size=5,bias=True)\n",
       "   (conv2): Conv2d(in_channel=10,out_channel=20,kernel_size=3,bias=True)\n",
       "   (dropout): Dropout(p=0.1)\n",
       "   (fc1): Linear(in_features=2000, out_features=500,bias=True)\n",
       "   (fc2): Linear(in_features=500, out_features=10,bias=True)\n",
       ")"
      ]
     },
     "execution_count": 7,
     "metadata": {},
     "output_type": "execute_result"
    }
   ],
   "source": [
    "model = ConvNet()\n",
    "model"
   ]
  },
  {
   "cell_type": "code",
   "execution_count": 8,
   "metadata": {},
   "outputs": [
    {
     "name": "stdout",
     "output_type": "stream",
     "text": [
      "Train Epoch: 1 [4992/60000 (8%)]\tLoss: 0.192004\n",
      "Train Epoch: 1 [10112/60000 (17%)]\tLoss: 0.212411\n",
      "Train Epoch: 1 [15232/60000 (25%)]\tLoss: 0.172954\n",
      "Train Epoch: 1 [20352/60000 (34%)]\tLoss: 0.231436\n",
      "Train Epoch: 1 [25472/60000 (42%)]\tLoss: 0.160820\n",
      "Train Epoch: 1 [30592/60000 (51%)]\tLoss: 0.087430\n",
      "Train Epoch: 1 [35712/60000 (59%)]\tLoss: 0.105173\n",
      "Train Epoch: 1 [40832/60000 (68%)]\tLoss: 0.143400\n",
      "Train Epoch: 1 [45952/60000 (77%)]\tLoss: 0.114819\n",
      "Train Epoch: 1 [51072/60000 (85%)]\tLoss: 0.064155\n",
      "Train Epoch: 1 [56192/60000 (94%)]\tLoss: 0.083155\n",
      "\n",
      "Test set: Average loss: 0.0007, Accuracy: 9717/10000 (97.17%)\n",
      "\n",
      "CPU times: user 6min 35s, sys: 3min 35s, total: 10min 10s\n",
      "Wall time: 1min 32s\n"
     ]
    }
   ],
   "source": [
    "%%time\n",
    "EPOCHS = 1\n",
    "model = ConvNet()\n",
    "#测试１：\n",
    "# ConvNet_1_2() batch_size = 128  可达到 99%\n",
    "# lr = [(3,0.05),(5,0.02),(7,0.001),(10,0.005),(15,0.001),(20,0.0005)]\n",
    "# optimizer = optim.SGD(model.parameters(),lr,momentum=0.9)\n",
    "\n",
    "# 测试2\n",
    "# lr = [(3,0.05),(5,0.02),(7,0.001),(10,0.005),(15,0.001),(20,0.0005)]\n",
    "# optimizer = optim.Adagrad(model.parameters(),lr=lr) \n",
    "\n",
    "# 128, 5 epoch 可达到99%\n",
    "# optimizer = optim.Adadelta(model.parameters())\n",
    "\n",
    "# 测试失败\n",
    "# optimizer = optim.RMSprop(model.parameters(),beta=0.5)\n",
    "\n",
    "# 128, 20次可达到99.30%\n",
    "optimizer = optim.Adam(model.parameters())\n",
    "\n",
    "for epoch in range(1, EPOCHS+1):\n",
    "    train(model, train_loader, optimizer, epoch)\n",
    "    test(model,test_loader)"
   ]
  },
  {
   "cell_type": "code",
   "execution_count": 9,
   "metadata": {},
   "outputs": [
    {
     "data": {
      "text/plain": [
       "ConvNet(\n",
       "   (conv1): Conv2d(in_channel=1,out_channel=10,kernel_size=5,bias=True)\n",
       "   (conv2): Conv2d(in_channel=10,out_channel=20,kernel_size=3,bias=True)\n",
       "   (dropout): Dropout(p=0.1)\n",
       "   (fc1): Linear(in_features=2000, out_features=500,bias=True)\n",
       "   (fc2): Linear(in_features=500, out_features=10,bias=True)\n",
       ")"
      ]
     },
     "execution_count": 9,
     "metadata": {},
     "output_type": "execute_result"
    }
   ],
   "source": [
    "model"
   ]
  },
  {
   "cell_type": "code",
   "execution_count": 18,
   "metadata": {},
   "outputs": [],
   "source": [
    "model.conv1.weight = 0"
   ]
  },
  {
   "cell_type": "code",
   "execution_count": 20,
   "metadata": {},
   "outputs": [
    {
     "data": {
      "text/plain": [
       "0"
      ]
     },
     "execution_count": 20,
     "metadata": {},
     "output_type": "execute_result"
    }
   ],
   "source": [
    "model._layers['conv1'].weight"
   ]
  },
  {
   "cell_type": "code",
   "execution_count": null,
   "metadata": {},
   "outputs": [],
   "source": []
  }
 ],
 "metadata": {
  "kernelspec": {
   "display_name": "Python 3",
   "language": "python",
   "name": "python3"
  },
  "language_info": {
   "codemirror_mode": {
    "name": "ipython",
    "version": 3
   },
   "file_extension": ".py",
   "mimetype": "text/x-python",
   "name": "python",
   "nbconvert_exporter": "python",
   "pygments_lexer": "ipython3",
   "version": "3.6.5"
  }
 },
 "nbformat": 4,
 "nbformat_minor": 2
}
