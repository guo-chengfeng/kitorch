{
 "cells": [
  {
   "cell_type": "code",
   "execution_count": 1,
   "metadata": {},
   "outputs": [],
   "source": [
    "import sys\n",
    "sys.path.append('../../')"
   ]
  },
  {
   "cell_type": "code",
   "execution_count": 2,
   "metadata": {},
   "outputs": [],
   "source": [
    "import kitorch as kt\n",
    "from kitorch import nn,optim,functional as F"
   ]
  },
  {
   "cell_type": "code",
   "execution_count": 3,
   "metadata": {},
   "outputs": [],
   "source": [
    "import numpy as np\n",
    "import torch\n",
    "# from torch import nn,optim\n",
    "# from torch.nn import functional as F\n",
    "from torchvision import datasets, transforms"
   ]
  },
  {
   "cell_type": "code",
   "execution_count": 4,
   "metadata": {},
   "outputs": [],
   "source": [
    "BATCH_SIZE=256\n",
    "EPOCHS=5 # 总共训练批次"
   ]
  },
  {
   "cell_type": "code",
   "execution_count": 5,
   "metadata": {},
   "outputs": [
    {
     "name": "stdout",
     "output_type": "stream",
     "text": [
      "Downloading http://yann.lecun.com/exdb/mnist/train-images-idx3-ubyte.gz to data/MNIST/raw/train-images-idx3-ubyte.gz\n"
     ]
    },
    {
     "name": "stderr",
     "output_type": "stream",
     "text": [
      "100.1%"
     ]
    },
    {
     "name": "stdout",
     "output_type": "stream",
     "text": [
      "Extracting data/MNIST/raw/train-images-idx3-ubyte.gz\n",
      "Downloading http://yann.lecun.com/exdb/mnist/train-labels-idx1-ubyte.gz to data/MNIST/raw/train-labels-idx1-ubyte.gz\n"
     ]
    },
    {
     "name": "stderr",
     "output_type": "stream",
     "text": [
      "113.5%"
     ]
    },
    {
     "name": "stdout",
     "output_type": "stream",
     "text": [
      "Extracting data/MNIST/raw/train-labels-idx1-ubyte.gz\n",
      "Downloading http://yann.lecun.com/exdb/mnist/t10k-images-idx3-ubyte.gz to data/MNIST/raw/t10k-images-idx3-ubyte.gz\n"
     ]
    },
    {
     "name": "stderr",
     "output_type": "stream",
     "text": [
      "100.4%"
     ]
    },
    {
     "name": "stdout",
     "output_type": "stream",
     "text": [
      "Extracting data/MNIST/raw/t10k-images-idx3-ubyte.gz\n",
      "Downloading http://yann.lecun.com/exdb/mnist/t10k-labels-idx1-ubyte.gz to data/MNIST/raw/t10k-labels-idx1-ubyte.gz\n"
     ]
    },
    {
     "name": "stderr",
     "output_type": "stream",
     "text": [
      "180.4%"
     ]
    },
    {
     "name": "stdout",
     "output_type": "stream",
     "text": [
      "Extracting data/MNIST/raw/t10k-labels-idx1-ubyte.gz\n",
      "Processing...\n",
      "Done!\n"
     ]
    }
   ],
   "source": [
    "train_loader = torch.utils.data.DataLoader(\n",
    "        datasets.MNIST('data', train=True, download=True, \n",
    "                       transform=transforms.Compose([\n",
    "                           transforms.ToTensor(),\n",
    "                           transforms.Normalize((0.1307,), (0.3081,))\n",
    "                       ])),\n",
    "        batch_size=BATCH_SIZE, shuffle=True)\n",
    "test_loader = torch.utils.data.DataLoader(\n",
    "        datasets.MNIST('data', train=False, transform=transforms.Compose([\n",
    "                           transforms.ToTensor(),\n",
    "                           transforms.Normalize((0.1307,), (0.3081,))\n",
    "                       ])),\n",
    "        batch_size=BATCH_SIZE, shuffle=True)"
   ]
  },
  {
   "cell_type": "code",
   "execution_count": 7,
   "metadata": {},
   "outputs": [],
   "source": [
    "class ConvNet(nn.Module):\n",
    "    def __init__(self): \n",
    "        super(ConvNet,self).__init__()\n",
    "        self.conv1 = nn.Conv2d(1,10,5) # 10, 24x24\n",
    "        self.bn1 = nn.BatchNorm2d(10)\n",
    "        self.conv2 = nn.Conv2d(10,20,3) # 128, 10x10\n",
    "        self.bn2 = nn.BatchNorm2d(20)\n",
    "        self.fc1 = nn.Linear(20*10*10,200)\n",
    "        self.bn3 = nn.BatchNorm1d(200)\n",
    "        self.fc2 = nn.Linear(200,10)\n",
    "        \n",
    "    def forward(self,x:kt.Tensor):\n",
    "        # x： 512-1-28-28\n",
    "        batch_size = x.shape[0]\n",
    "        out = self.conv1(x)     # 512-10-24-24\n",
    "        out = self.bn1(out)\n",
    "        out = F.relu(out)\n",
    "        out = F.maxpool2d(out,(2,2)) # 512-10-12-12\n",
    "        out = self.conv2(out) # 512-20-10-10\n",
    "        out = self.bn2(out)\n",
    "        out = F.relu(out)\n",
    "        out = out.reshape((batch_size,-1))\n",
    "        out = self.fc1(out)\n",
    "        out = self.bn3(out)\n",
    "        out = F.relu(out)\n",
    "        out = self.fc2(out)\n",
    "        return F.log_softmax(out,dim=1)"
   ]
  },
  {
   "cell_type": "code",
   "execution_count": 8,
   "metadata": {},
   "outputs": [],
   "source": [
    "\n",
    "def train(model, train_loader, optimizer, epoch):\n",
    "    model.train()\n",
    "    for batch_idx, (data, target) in enumerate(train_loader):\n",
    "        data,target = kt.from_numpy(data.numpy().astype(np.float64)),target.numpy()\n",
    "        optimizer.zero_grad()\n",
    "        output = model(data)\n",
    "        loss = F.nll_loss(output, target)\n",
    "        loss.backward()\n",
    "        optimizer.step()\n",
    "        if(batch_idx+1)%100 == 0: \n",
    "            print('Train Epoch: {} [{}/{} ({:.0f}%)]\\tLoss: {:.6f}'.format(\n",
    "                epoch, batch_idx * len(data), len(train_loader.dataset),\n",
    "                100. * batch_idx / len(train_loader), loss.item()))\n",
    "\n",
    "\n",
    "def test(model,test_loader):\n",
    "    test_loss = 0\n",
    "    correct = 0\n",
    "    model.eval()\n",
    "    for data, target in test_loader:\n",
    "        data,target = kt.from_numpy(data.numpy().astype(np.float64)),target.numpy()\n",
    "        output = model(data)\n",
    "        test_loss += F.nll_loss(output, target).item() # 将一批的损失相加\n",
    "        result = output.data.argmax(axis=1)\n",
    "        correct += (result == target).sum()\n",
    "\n",
    "    test_loss /= len(test_loader.dataset)\n",
    "    print('\\nTest set: Average loss: {:.6f}, Accuracy: {}/{} ({:.2f}%)\\n'.format(\n",
    "        test_loss, correct, len(test_loader.dataset),\n",
    "        100. * correct / len(test_loader.dataset)))"
   ]
  },
  {
   "cell_type": "code",
   "execution_count": 9,
   "metadata": {},
   "outputs": [
    {
     "name": "stdout",
     "output_type": "stream",
     "text": [
      "Train Epoch: 1 [25344/60000 (42%)]\tLoss: 0.075319\n",
      "Train Epoch: 1 [50944/60000 (85%)]\tLoss: 0.093968\n",
      "\n",
      "Test set: Average loss: 0.000221, Accuracy: 9837/10000 (98.37%)\n",
      "\n",
      "CPU times: user 4min 15s, sys: 2min 12s, total: 6min 27s\n",
      "Wall time: 1min 10s\n"
     ]
    }
   ],
   "source": [
    "%%time\n",
    "EPOCHS = 1\n",
    "model = ConvNet()\n",
    "#测试１：\n",
    "# lr = [(3,0.05),(5,0.02),(7,0.001),(10,0.005),(15,0.001),(20,0.0005)]\n",
    "# optimizer = optim.SGD(model.parameters(),lr,momentum=0.9)\n",
    "\n",
    "# 测试2\n",
    "# lr = [(3,0.05),(5,0.02),(7,0.001),(10,0.005),(15,0.001),(20,0.0005)]\n",
    "# optimizer = optim.Adagrad(model.parameters(),lr=lr) \n",
    "\n",
    "# 256, 20 epoch 可达到99.25%\n",
    "optimizer = optim.Adadelta(model.parameters())\n",
    "\n",
    "# 测试失败\n",
    "# optimizer = optim.RMSprop(model.parameters(),beta=0.5)\n",
    "\n",
    "# 256, 20次可达到99.11%\n",
    "# optimizer = optim.Adam(model.parameters())\n",
    "\n",
    "for epoch in range(1, EPOCHS+1):\n",
    "    train(model, train_loader, optimizer, epoch)\n",
    "    test(model,test_loader)"
   ]
  },
  {
   "cell_type": "code",
   "execution_count": null,
   "metadata": {},
   "outputs": [],
   "source": []
  }
 ],
 "metadata": {
  "kernelspec": {
   "display_name": "Python 3",
   "language": "python",
   "name": "python3"
  },
  "language_info": {
   "codemirror_mode": {
    "name": "ipython",
    "version": 3
   },
   "file_extension": ".py",
   "mimetype": "text/x-python",
   "name": "python",
   "nbconvert_exporter": "python",
   "pygments_lexer": "ipython3",
   "version": "3.6.5"
  }
 },
 "nbformat": 4,
 "nbformat_minor": 2
}
