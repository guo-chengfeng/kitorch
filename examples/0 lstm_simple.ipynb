{
 "cells": [
  {
   "cell_type": "code",
   "execution_count": 1,
   "metadata": {},
   "outputs": [],
   "source": [
    "import sys\n",
    "sys.path.append('../../')\n",
    "import kitorch as mt\n",
    "from kitorch import nn,optim\n",
    "from kitorch import functional as F\n",
    "import numpy as np\n",
    "import torch"
   ]
  },
  {
   "cell_type": "code",
   "execution_count": 2,
   "metadata": {},
   "outputs": [],
   "source": [
    "class LSTM(nn.Module):\n",
    "    def __init__(self,input_size,hidden_size,num_layers,dropout=0):\n",
    "        super(LSTM, self).__init__()\n",
    "\n",
    "        self.lstm = nn.LSTM(\n",
    "            input_size= input_size,\n",
    "            hidden_size= hidden_size,\n",
    "            num_layers= num_layers,\n",
    "            dropout=dropout,\n",
    "        )\n",
    "        self.fc = nn.Linear(hidden_size, 1)\n",
    "        \n",
    "    def forward(self,x,h0,c0):\n",
    "        x, hn,cn = self.lstm(x,h0,c0)\n",
    "        x = self.fc(x)\n",
    "        return x,hn,cn\n",
    "    \n",
    "\n",
    "class TrochLSTM(torch.nn.Module):\n",
    "    def __init__(self,input_size,hidden_size,num_layers,dropout=0):\n",
    "        super(TrochLSTM, self).__init__()\n",
    "\n",
    "        self.lstm = torch.nn.LSTM(\n",
    "            input_size= input_size,\n",
    "            hidden_size= hidden_size,\n",
    "            num_layers= num_layers,\n",
    "            dropout = dropout\n",
    "      )\n",
    "        self.fc = torch.nn.Linear(hidden_size, 1)\n",
    "        \n",
    "    def forward(self,x,h0,c0):\n",
    "        x, (hn,cn) = self.lstm(x,(h0,c0))\n",
    "        x = self.fc(x)\n",
    "        return x,hn ,cn  \n",
    "    \n"
   ]
  },
  {
   "cell_type": "code",
   "execution_count": 3,
   "metadata": {},
   "outputs": [
    {
     "data": {
      "text/plain": [
       "<Figure size 640x480 with 1 Axes>"
      ]
     },
     "metadata": {},
     "output_type": "display_data"
    }
   ],
   "source": [
    "import matplotlib.pyplot as plt\n",
    "# 创造一些数据\n",
    "steps = np.linspace(0, np.pi*2, 100, dtype=np.float)\n",
    "x_np = np.sin(steps)\n",
    "y_np = np.cos(steps)\n",
    "#\n",
    "# “看”数据\n",
    "plt.plot(steps, y_np, 'r-', label='target(cos)')\n",
    "plt.plot(steps, x_np, 'b-', label='input(sin)')\n",
    "plt.legend(loc='best')\n",
    "plt.show()"
   ]
  },
  {
   "cell_type": "code",
   "execution_count": 4,
   "metadata": {},
   "outputs": [],
   "source": [
    "def normalize_weights(parameters):\n",
    "    for layer_paras in parameters:\n",
    "        for para in layer_paras:\n",
    "            norm = np.linalg.norm(para.grad.data)\n",
    "            if norm > 1000:\n",
    "                para.grad.data/=norm"
   ]
  },
  {
   "cell_type": "code",
   "execution_count": 5,
   "metadata": {},
   "outputs": [],
   "source": [
    "# 定义优化器和损失函数\n",
    "lr = 0.001\n",
    "num_layers=2\n",
    "dropout=0.1\n",
    "model = LSTM(1,32,num_layers,dropout=dropout)\n",
    "torch_model = TrochLSTM(1,32,num_layers,dropout=dropout)\n",
    "optimizer = optim.RMSprop(model.parameters(), lr=lr)\n",
    "torch_optimizer = torch.optim.RMSprop(torch_model.parameters(), lr=lr)"
   ]
  },
  {
   "cell_type": "code",
   "execution_count": 6,
   "metadata": {},
   "outputs": [],
   "source": [
    "%matplotlib qt5"
   ]
  },
  {
   "cell_type": "code",
   "execution_count": 7,
   "metadata": {},
   "outputs": [
    {
     "name": "stdout",
     "output_type": "stream",
     "text": [
      "0.563545512916664 0.5347996950149536\n",
      "0.05224697262459098 0.009309515357017517\n",
      "0.01538404436844209 0.0017448797589167953\n",
      "0.002710258376745477 0.0007190348696894944\n",
      "0.0014605663502091158 0.0012761395191773772\n",
      "0.001322508118811801 0.0013036486925557256\n",
      "CPU times: user 43.2 s, sys: 12.8 s, total: 56 s\n",
      "Wall time: 13.4 s\n"
     ]
    }
   ],
   "source": [
    "%%time\n",
    "seq_len = 20\n",
    "input_size = 1\n",
    "h_state = mt.zeros(num_layers,1,32)\n",
    "c_state = mt.zeros(num_layers,1,32)\n",
    "torch_h_state = torch.zeros(num_layers,1,32)\n",
    "torch_c_state = torch.zeros(num_layers,1,32)\n",
    "# plt.figure(1,figsize=(12,5))\n",
    "# 图出来了，可以继续画\n",
    "\n",
    "\n",
    "for epoch in range(300):\n",
    "# epoch = 0\n",
    "\n",
    "    start, end = epoch * np.pi, (epoch+1)*np.pi\n",
    "\n",
    "    steps = np.linspace(start, end, seq_len, dtype=np.float32)\n",
    "    x_np = np.sin(steps)\n",
    "    y_np = np.cos(steps)\n",
    "\n",
    "    x = mt.from_numpy(x_np[:,np.newaxis,np.newaxis])\n",
    "    y = mt.from_numpy(y_np[:,np.newaxis,np.newaxis])\n",
    "\n",
    "    optimizer.zero_grad()  \n",
    "    prediction, h_state,c_state = model(x, h_state,c_state)\n",
    "    h_state,c_state = h_state.copy(),c_state.copy()\n",
    "    loss = F.mse_loss(prediction, y)\n",
    "\n",
    "    loss.backward()\n",
    "#     normalize_weights(model.parameters())\n",
    "    optimizer.step()\n",
    "    \n",
    "\n",
    "    # torch RNN\n",
    "    x = torch.from_numpy(x_np[:,np.newaxis,np.newaxis])\n",
    "    y = torch.from_numpy(y_np[:,np.newaxis,np.newaxis])\n",
    "    torch_optimizer.zero_grad()  \n",
    "    torch_prediction, torch_h_state, torch_c_state = torch_model(x, torch_h_state,torch_c_state)\n",
    "    torch_h_state = torch_h_state.data\n",
    "    torch_c_state = torch_c_state.data\n",
    "    torch_loss = torch.nn.functional.mse_loss(torch_prediction, y)\n",
    "    torch_loss.backward()\n",
    "    torch_optimizer.step()\n",
    "    \n",
    "    if epoch%50 == 0:\n",
    "        print(loss.data.item(),torch_loss.data.item())\n",
    "        \n",
    "        \n",
    "    plt.plot(steps,y_np.flatten(),'r-')  \n",
    "    plt.plot(steps,prediction.data.flatten(),'b-')\n",
    "    plt.plot(steps,torch_prediction.data.numpy().flatten(),'k-')\n",
    "    plt.pause(0.001)\n",
    "    if epoch%50 == 0:\n",
    "        plt.cla()\n",
    "    \n",
    "    \n",
    "plt.show()  "
   ]
  }
 ],
 "metadata": {
  "kernelspec": {
   "display_name": "Python 3",
   "language": "python",
   "name": "python3"
  },
  "language_info": {
   "codemirror_mode": {
    "name": "ipython",
    "version": 3
   },
   "file_extension": ".py",
   "mimetype": "text/x-python",
   "name": "python",
   "nbconvert_exporter": "python",
   "pygments_lexer": "ipython3",
   "version": "3.6.5"
  }
 },
 "nbformat": 4,
 "nbformat_minor": 2
}
